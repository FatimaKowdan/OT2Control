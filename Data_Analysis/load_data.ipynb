{
 "cells": [
  {
   "cell_type": "code",
   "execution_count": 1,
   "id": "2343246c",
   "metadata": {},
   "outputs": [],
   "source": [
    "import os\n",
    "\n",
    "import pandas as pd\n",
    "import numpy as np\n"
   ]
  },
  {
   "cell_type": "code",
   "execution_count": 106,
   "id": "8b976fa4",
   "metadata": {},
   "outputs": [],
   "source": [
    "def load_reader_data(filename):\n",
    "    # Read data ignoring first 50 lines\n",
    "    df = pd.read_csv(filename,skiprows=50,header=None,index_col=0,na_values=[\"       -\"],encoding = 'latin1').T\n",
    "    headers = [x[:-1] for x in df.columns]\n",
    "    df.columns = headers\n",
    "    df.dropna(inplace=True)\n",
    "    df = df.astype(float)\n",
    "    return df\n",
    "\n",
    "def _parse_meta_data(filename):\n",
    "    '''\n",
    "    parses the meta data of a platereader output, and returns a dataframe of the scans\n",
    "    and a dictionary of parameters  \n",
    "    params:  \n",
    "        str filename: the name of the file to be read  \n",
    "    returns:  \n",
    "        int: the index to start reading the dataframe at  \n",
    "        dict<str:obj>: holds the metadata  \n",
    "            str filename: the filename as you passed in  \n",
    "            int n_cycles: the number of cycles  \n",
    "    '''\n",
    "    found_start = False\n",
    "    i = 0\n",
    "    n_cycles = None\n",
    "    line = 'dowhile'\n",
    "    with open(filename, 'r',encoding='latin1') as file:\n",
    "        while not found_start and line != '':\n",
    "            line = file.readline()\n",
    "            if bool(re.match(r'No\\. of Cycles:',line)):\n",
    "                #is number of cycles\n",
    "                n_cycles = int((re.search(r'\\d+', line)).group(0))\n",
    "            if line[:6] == 'T[°C]:':\n",
    "                while not bool(re.match('\\D\\d',line)) and line != '':\n",
    "                    #is not of form A1/B03 etc\n",
    "                    line = file.readline()\n",
    "                    i += 1\n",
    "                i -= 1 #cause you will increment once more \n",
    "                found_start = True\n",
    "            i+=1\n",
    "    assert (line != ''), \"corrupt reader file. ran out of file to read before finding a scanned well\"\n",
    "    assert (n_cycles != None), \"corrupt reader file. num cycles not found.\"\n",
    "    return i, {'n_cycles':n_cycles,'filename':filename}"
   ]
  },
  {
   "cell_type": "code",
   "execution_count": 107,
   "id": "feab0409",
   "metadata": {},
   "outputs": [],
   "source": [
    "filename = 'MSR_034_210706.csv'\n",
    "# filename = 'test_inLab02Results.csv'"
   ]
  },
  {
   "cell_type": "code",
   "execution_count": 108,
   "id": "59c79a0d",
   "metadata": {},
   "outputs": [
    {
     "data": {
      "text/plain": [
       "(50, {'n_cycles': 60, 'filename': 'MSR_034_210706.csv'})"
      ]
     },
     "execution_count": 108,
     "metadata": {},
     "output_type": "execute_result"
    }
   ],
   "source": [
    "_parse_meta_data(filename)"
   ]
  },
  {
   "cell_type": "code",
   "execution_count": 53,
   "id": "a14c1584",
   "metadata": {},
   "outputs": [
    {
     "name": "stdout",
     "output_type": "stream",
     "text": [
      "weeeeee!\n",
      "T[°C]: 22.6\n",
      "\n"
     ]
    }
   ],
   "source": [
    "#consider buffered reader to improve performance\n",
    "found_start = False\n",
    "i = 0\n",
    "line = 'dowhile'\n",
    "with open(filename, 'r',encoding='latin1') as file:\n",
    "    while not found_start and line != '':\n",
    "        line = file.readline()\n",
    "        if line[:6] == 'T[°C]:':\n",
    "            print('weeeeee!')\n",
    "            print(line)\n",
    "            while not bool(re.match('\\D\\d',line)) and line != '':\n",
    "                #is not of form A1/B03 etc\n",
    "                line = file.readline()\n",
    "                i += 1\n",
    "            i -= 1 #cause you will increment once more \n",
    "            found_start = True\n",
    "        i+=1"
   ]
  },
  {
   "cell_type": "code",
   "execution_count": 38,
   "id": "2cbf89b2",
   "metadata": {},
   "outputs": [],
   "source": [
    "import re"
   ]
  },
  {
   "cell_type": "code",
   "execution_count": 72,
   "id": "4cb28c42",
   "metadata": {},
   "outputs": [
    {
     "ename": "AttributeError",
     "evalue": "'function' object has no attribute 'group'",
     "output_type": "error",
     "traceback": [
      "\u001b[0;31m---------------------------------------------------------------------------\u001b[0m",
      "\u001b[0;31mAttributeError\u001b[0m                            Traceback (most recent call last)",
      "\u001b[0;32m<ipython-input-72-4874285c7633>\u001b[0m in \u001b[0;36m<module>\u001b[0;34m\u001b[0m\n\u001b[0;32m----> 1\u001b[0;31m \u001b[0mprint\u001b[0m\u001b[0;34m(\u001b[0m\u001b[0mre\u001b[0m\u001b[0;34m.\u001b[0m\u001b[0mmatch\u001b[0m\u001b[0;34m.\u001b[0m\u001b[0mgroup\u001b[0m\u001b[0;34m(\u001b[0m\u001b[0;34m)\u001b[0m\u001b[0;34m)\u001b[0m\u001b[0;34m\u001b[0m\u001b[0;34m\u001b[0m\u001b[0m\n\u001b[0m",
      "\u001b[0;31mAttributeError\u001b[0m: 'function' object has no attribute 'group'"
     ]
    }
   ],
   "source": [
    "print(re.match.group())"
   ]
  },
  {
   "cell_type": "code",
   "execution_count": 51,
   "id": "74bfb440",
   "metadata": {},
   "outputs": [
    {
     "name": "stdout",
     "output_type": "stream",
     "text": [
      "True\n",
      "True\n",
      "True\n",
      "False\n",
      "False\n",
      "False\n",
      "False\n"
     ]
    }
   ],
   "source": [
    "tests = ['D8', 'A90', 'H12', 'T[C]', '0B', '[Px]', 'Temp[]']\n",
    "for test in tests:\n",
    "    print(bool(re.match('\\D\\d',test)))"
   ]
  },
  {
   "cell_type": "code",
   "execution_count": 87,
   "id": "38a63b30",
   "metadata": {},
   "outputs": [
    {
     "data": {
      "text/plain": [
       "<re.Match object; span=(15, 16), match='1'>"
      ]
     },
     "execution_count": 87,
     "metadata": {},
     "output_type": "execute_result"
    }
   ],
   "source": [
    "re.search(r'\\d', 'No. of Cycles: 1')"
   ]
  },
  {
   "cell_type": "code",
   "execution_count": 98,
   "id": "948a6ed8",
   "metadata": {},
   "outputs": [
    {
     "data": {
      "text/plain": [
       "1324"
      ]
     },
     "execution_count": 98,
     "metadata": {},
     "output_type": "execute_result"
    }
   ],
   "source": [
    "int((re.search(r'\\d+', 'No. of Cycles: 1324')).group(0))"
   ]
  },
  {
   "cell_type": "code",
   "execution_count": 40,
   "id": "8c8457cc",
   "metadata": {},
   "outputs": [
    {
     "name": "stdout",
     "output_type": "stream",
     "text": [
      "Support for regular expressions (RE).\n",
      "\n",
      "This module provides regular expression matching operations similar to\n",
      "those found in Perl.  It supports both 8-bit and Unicode strings; both\n",
      "the pattern and the strings being processed can contain null bytes and\n",
      "characters outside the US ASCII range.\n",
      "\n",
      "Regular expressions can contain both special and ordinary characters.\n",
      "Most ordinary characters, like \"A\", \"a\", or \"0\", are the simplest\n",
      "regular expressions; they simply match themselves.  You can\n",
      "concatenate ordinary characters, so last matches the string 'last'.\n",
      "\n",
      "The special characters are:\n",
      "    \".\"      Matches any character except a newline.\n",
      "    \"^\"      Matches the start of the string.\n",
      "    \"$\"      Matches the end of the string or just before the newline at\n",
      "             the end of the string.\n",
      "    \"*\"      Matches 0 or more (greedy) repetitions of the preceding RE.\n",
      "             Greedy means that it will match as many repetitions as possible.\n",
      "    \"+\"      Matches 1 or more (greedy) repetitions of the preceding RE.\n",
      "    \"?\"      Matches 0 or 1 (greedy) of the preceding RE.\n",
      "    *?,+?,?? Non-greedy versions of the previous three special characters.\n",
      "    {m,n}    Matches from m to n repetitions of the preceding RE.\n",
      "    {m,n}?   Non-greedy version of the above.\n",
      "    \"\\\\\"     Either escapes special characters or signals a special sequence.\n",
      "    []       Indicates a set of characters.\n",
      "             A \"^\" as the first character indicates a complementing set.\n",
      "    \"|\"      A|B, creates an RE that will match either A or B.\n",
      "    (...)    Matches the RE inside the parentheses.\n",
      "             The contents can be retrieved or matched later in the string.\n",
      "    (?aiLmsux) The letters set the corresponding flags defined below.\n",
      "    (?:...)  Non-grouping version of regular parentheses.\n",
      "    (?P<name>...) The substring matched by the group is accessible by name.\n",
      "    (?P=name)     Matches the text matched earlier by the group named name.\n",
      "    (?#...)  A comment; ignored.\n",
      "    (?=...)  Matches if ... matches next, but doesn't consume the string.\n",
      "    (?!...)  Matches if ... doesn't match next.\n",
      "    (?<=...) Matches if preceded by ... (must be fixed length).\n",
      "    (?<!...) Matches if not preceded by ... (must be fixed length).\n",
      "    (?(id/name)yes|no) Matches yes pattern if the group with id/name matched,\n",
      "                       the (optional) no pattern otherwise.\n",
      "\n",
      "The special sequences consist of \"\\\\\" and a character from the list\n",
      "below.  If the ordinary character is not on the list, then the\n",
      "resulting RE will match the second character.\n",
      "    \\number  Matches the contents of the group of the same number.\n",
      "    \\A       Matches only at the start of the string.\n",
      "    \\Z       Matches only at the end of the string.\n",
      "    \\b       Matches the empty string, but only at the start or end of a word.\n",
      "    \\B       Matches the empty string, but not at the start or end of a word.\n",
      "    \\d       Matches any decimal digit; equivalent to the set [0-9] in\n",
      "             bytes patterns or string patterns with the ASCII flag.\n",
      "             In string patterns without the ASCII flag, it will match the whole\n",
      "             range of Unicode digits.\n",
      "    \\D       Matches any non-digit character; equivalent to [^\\d].\n",
      "    \\s       Matches any whitespace character; equivalent to [ \\t\\n\\r\\f\\v] in\n",
      "             bytes patterns or string patterns with the ASCII flag.\n",
      "             In string patterns without the ASCII flag, it will match the whole\n",
      "             range of Unicode whitespace characters.\n",
      "    \\S       Matches any non-whitespace character; equivalent to [^\\s].\n",
      "    \\w       Matches any alphanumeric character; equivalent to [a-zA-Z0-9_]\n",
      "             in bytes patterns or string patterns with the ASCII flag.\n",
      "             In string patterns without the ASCII flag, it will match the\n",
      "             range of Unicode alphanumeric characters (letters plus digits\n",
      "             plus underscore).\n",
      "             With LOCALE, it will match the set [0-9_] plus characters defined\n",
      "             as letters for the current locale.\n",
      "    \\W       Matches the complement of \\w.\n",
      "    \\\\       Matches a literal backslash.\n",
      "\n",
      "This module exports the following functions:\n",
      "    match     Match a regular expression pattern to the beginning of a string.\n",
      "    fullmatch Match a regular expression pattern to all of a string.\n",
      "    search    Search a string for the presence of a pattern.\n",
      "    sub       Substitute occurrences of a pattern found in a string.\n",
      "    subn      Same as sub, but also return the number of substitutions made.\n",
      "    split     Split a string by the occurrences of a pattern.\n",
      "    findall   Find all occurrences of a pattern in a string.\n",
      "    finditer  Return an iterator yielding a Match object for each match.\n",
      "    compile   Compile a pattern into a Pattern object.\n",
      "    purge     Clear the regular expression cache.\n",
      "    escape    Backslash all non-alphanumerics in a string.\n",
      "\n",
      "Each function other than purge and escape can take an optional 'flags' argument\n",
      "consisting of one or more of the following module constants, joined by \"|\".\n",
      "A, L, and U are mutually exclusive.\n",
      "    A  ASCII       For string patterns, make \\w, \\W, \\b, \\B, \\d, \\D\n",
      "                   match the corresponding ASCII character categories\n",
      "                   (rather than the whole Unicode categories, which is the\n",
      "                   default).\n",
      "                   For bytes patterns, this flag is the only available\n",
      "                   behaviour and needn't be specified.\n",
      "    I  IGNORECASE  Perform case-insensitive matching.\n",
      "    L  LOCALE      Make \\w, \\W, \\b, \\B, dependent on the current locale.\n",
      "    M  MULTILINE   \"^\" matches the beginning of lines (after a newline)\n",
      "                   as well as the string.\n",
      "                   \"$\" matches the end of lines (before a newline) as well\n",
      "                   as the end of the string.\n",
      "    S  DOTALL      \".\" matches any character at all, including the newline.\n",
      "    X  VERBOSE     Ignore whitespace and comments for nicer looking RE's.\n",
      "    U  UNICODE     For compatibility only. Ignored for string patterns (it\n",
      "                   is the default), and forbidden for bytes patterns.\n",
      "\n",
      "This module also defines an exception 'error'.\n",
      "\n",
      "\n"
     ]
    }
   ],
   "source": [
    "print(re.__doc__)"
   ]
  },
  {
   "cell_type": "code",
   "execution_count": 37,
   "id": "2025124f",
   "metadata": {},
   "outputs": [
    {
     "name": "stdout",
     "output_type": "stream",
     "text": [
      "48\n"
     ]
    }
   ],
   "source": [
    "print(i)a"
   ]
  },
  {
   "cell_type": "code",
   "execution_count": null,
   "id": "1a6b3c92",
   "metadata": {},
   "outputs": [],
   "source": [
    "df = pd.read_csv(filename,skiprows=50,header=None,index_col=0,na_values=[\"       -\"],encoding = 'latin1').T\n",
    "headers = [x[:-1] for x in df.columns]\n",
    "df.columns = headers\n",
    "df.dropna(inplace=True)\n",
    "df = df.astype(float)"
   ]
  },
  {
   "cell_type": "code",
   "execution_count": 3,
   "id": "87a330ea",
   "metadata": {},
   "outputs": [],
   "source": [
    "df = load_reader_data('test_inLab02Results.csv')"
   ]
  },
  {
   "cell_type": "code",
   "execution_count": 4,
   "id": "3f674d33",
   "metadata": {},
   "outputs": [
    {
     "data": {
      "text/html": [
       "<div>\n",
       "<style scoped>\n",
       "    .dataframe tbody tr th:only-of-type {\n",
       "        vertical-align: middle;\n",
       "    }\n",
       "\n",
       "    .dataframe tbody tr th {\n",
       "        vertical-align: top;\n",
       "    }\n",
       "\n",
       "    .dataframe thead th {\n",
       "        text-align: right;\n",
       "    }\n",
       "</style>\n",
       "<table border=\"1\" class=\"dataframe\">\n",
       "  <thead>\n",
       "    <tr style=\"text-align: right;\">\n",
       "      <th></th>\n",
       "      <th>D05</th>\n",
       "      <th>E05</th>\n",
       "    </tr>\n",
       "  </thead>\n",
       "  <tbody>\n",
       "    <tr>\n",
       "      <th>1</th>\n",
       "      <td>0.664</td>\n",
       "      <td>0.665</td>\n",
       "    </tr>\n",
       "    <tr>\n",
       "      <th>2</th>\n",
       "      <td>0.383</td>\n",
       "      <td>0.384</td>\n",
       "    </tr>\n",
       "    <tr>\n",
       "      <th>3</th>\n",
       "      <td>0.298</td>\n",
       "      <td>0.298</td>\n",
       "    </tr>\n",
       "    <tr>\n",
       "      <th>4</th>\n",
       "      <td>0.247</td>\n",
       "      <td>0.247</td>\n",
       "    </tr>\n",
       "    <tr>\n",
       "      <th>5</th>\n",
       "      <td>0.200</td>\n",
       "      <td>0.200</td>\n",
       "    </tr>\n",
       "    <tr>\n",
       "      <th>...</th>\n",
       "      <td>...</td>\n",
       "      <td>...</td>\n",
       "    </tr>\n",
       "    <tr>\n",
       "      <th>67</th>\n",
       "      <td>0.036</td>\n",
       "      <td>0.035</td>\n",
       "    </tr>\n",
       "    <tr>\n",
       "      <th>68</th>\n",
       "      <td>0.036</td>\n",
       "      <td>0.035</td>\n",
       "    </tr>\n",
       "    <tr>\n",
       "      <th>69</th>\n",
       "      <td>0.035</td>\n",
       "      <td>0.034</td>\n",
       "    </tr>\n",
       "    <tr>\n",
       "      <th>70</th>\n",
       "      <td>0.035</td>\n",
       "      <td>0.034</td>\n",
       "    </tr>\n",
       "    <tr>\n",
       "      <th>71</th>\n",
       "      <td>0.035</td>\n",
       "      <td>0.034</td>\n",
       "    </tr>\n",
       "  </tbody>\n",
       "</table>\n",
       "<p>71 rows × 2 columns</p>\n",
       "</div>"
      ],
      "text/plain": [
       "      D05    E05\n",
       "1   0.664  0.665\n",
       "2   0.383  0.384\n",
       "3   0.298  0.298\n",
       "4   0.247  0.247\n",
       "5   0.200  0.200\n",
       "..    ...    ...\n",
       "67  0.036  0.035\n",
       "68  0.036  0.035\n",
       "69  0.035  0.034\n",
       "70  0.035  0.034\n",
       "71  0.035  0.034\n",
       "\n",
       "[71 rows x 2 columns]"
      ]
     },
     "execution_count": 4,
     "metadata": {},
     "output_type": "execute_result"
    }
   ],
   "source": [
    "df"
   ]
  },
  {
   "cell_type": "code",
   "execution_count": 112,
   "id": "64856949",
   "metadata": {},
   "outputs": [],
   "source": [
    "def get_well_to_name():\n",
    "    filename = '../Eve_Files/Eve_Files/translated_wellmap.tsv'\n",
    "    df = pd.read_csv(filename,sep='\\t',index_col=1)\n",
    "    pr_wells = df.loc[(df['deck_pos'] == 4) | (df['deck_pos'] == 7)]\n",
    "    return pr_wells['chem_name']"
   ]
  },
  {
   "cell_type": "code",
   "execution_count": 113,
   "id": "3140f646",
   "metadata": {},
   "outputs": [
    {
     "data": {
      "text/plain": [
       "Series([], Name: chem_name, dtype: object)"
      ]
     },
     "execution_count": 113,
     "metadata": {},
     "output_type": "execute_result"
    }
   ],
   "source": [
    "get_well_to_name()"
   ]
  },
  {
   "cell_type": "code",
   "execution_count": null,
   "id": "84f883a7",
   "metadata": {},
   "outputs": [],
   "source": []
  },
  {
   "cell_type": "code",
   "execution_count": null,
   "id": "2f4e9c90",
   "metadata": {},
   "outputs": [],
   "source": []
  }
 ],
 "metadata": {
  "kernelspec": {
   "display_name": "Python 3",
   "language": "python",
   "name": "python3"
  },
  "language_info": {
   "codemirror_mode": {
    "name": "ipython",
    "version": 3
   },
   "file_extension": ".py",
   "mimetype": "text/x-python",
   "name": "python",
   "nbconvert_exporter": "python",
   "pygments_lexer": "ipython3",
   "version": "3.9.5"
  }
 },
 "nbformat": 4,
 "nbformat_minor": 5
}
