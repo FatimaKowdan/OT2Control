{
 "cells": [
  {
   "cell_type": "code",
   "execution_count": 70,
   "id": "2343246c",
   "metadata": {},
   "outputs": [],
   "source": [
    "import os\n",
    "\n",
    "import pandas as pd\n",
    "import numpy as np\n"
   ]
  },
  {
   "cell_type": "code",
   "execution_count": 60,
   "id": "8b976fa4",
   "metadata": {},
   "outputs": [],
   "source": [
    "def load_reader_data(filename):\n",
    "    # Read data ignoring first 50 lines\n",
    "    df = pd.read_csv(filename,skiprows=50,header=None,index_col=0,na_values=[\"       -\"],encoding = 'latin1').T\n",
    "    headers = [x[:-1] for x in df.columns]\n",
    "    df.columns = headers\n",
    "    df.dropna(inplace=True)\n",
    "    df = df.astype(float)\n",
    "    return df"
   ]
  },
  {
   "cell_type": "code",
   "execution_count": 86,
   "id": "87a330ea",
   "metadata": {},
   "outputs": [],
   "source": [
    "df = load_reader_data('test_inLab02Results.csv')"
   ]
  },
  {
   "cell_type": "code",
   "execution_count": 114,
   "id": "3f674d33",
   "metadata": {},
   "outputs": [
    {
     "data": {
      "text/html": [
       "<div>\n",
       "<style scoped>\n",
       "    .dataframe tbody tr th:only-of-type {\n",
       "        vertical-align: middle;\n",
       "    }\n",
       "\n",
       "    .dataframe tbody tr th {\n",
       "        vertical-align: top;\n",
       "    }\n",
       "\n",
       "    .dataframe thead th {\n",
       "        text-align: right;\n",
       "    }\n",
       "</style>\n",
       "<table border=\"1\" class=\"dataframe\">\n",
       "  <thead>\n",
       "    <tr style=\"text-align: right;\">\n",
       "      <th></th>\n",
       "      <th>D05</th>\n",
       "      <th>E05</th>\n",
       "    </tr>\n",
       "  </thead>\n",
       "  <tbody>\n",
       "    <tr>\n",
       "      <th>1</th>\n",
       "      <td>0.664</td>\n",
       "      <td>0.665</td>\n",
       "    </tr>\n",
       "    <tr>\n",
       "      <th>2</th>\n",
       "      <td>0.383</td>\n",
       "      <td>0.384</td>\n",
       "    </tr>\n",
       "    <tr>\n",
       "      <th>3</th>\n",
       "      <td>0.298</td>\n",
       "      <td>0.298</td>\n",
       "    </tr>\n",
       "    <tr>\n",
       "      <th>4</th>\n",
       "      <td>0.247</td>\n",
       "      <td>0.247</td>\n",
       "    </tr>\n",
       "    <tr>\n",
       "      <th>5</th>\n",
       "      <td>0.200</td>\n",
       "      <td>0.200</td>\n",
       "    </tr>\n",
       "    <tr>\n",
       "      <th>...</th>\n",
       "      <td>...</td>\n",
       "      <td>...</td>\n",
       "    </tr>\n",
       "    <tr>\n",
       "      <th>67</th>\n",
       "      <td>0.036</td>\n",
       "      <td>0.035</td>\n",
       "    </tr>\n",
       "    <tr>\n",
       "      <th>68</th>\n",
       "      <td>0.036</td>\n",
       "      <td>0.035</td>\n",
       "    </tr>\n",
       "    <tr>\n",
       "      <th>69</th>\n",
       "      <td>0.035</td>\n",
       "      <td>0.034</td>\n",
       "    </tr>\n",
       "    <tr>\n",
       "      <th>70</th>\n",
       "      <td>0.035</td>\n",
       "      <td>0.034</td>\n",
       "    </tr>\n",
       "    <tr>\n",
       "      <th>71</th>\n",
       "      <td>0.035</td>\n",
       "      <td>0.034</td>\n",
       "    </tr>\n",
       "  </tbody>\n",
       "</table>\n",
       "<p>71 rows × 2 columns</p>\n",
       "</div>"
      ],
      "text/plain": [
       "      D05    E05\n",
       "1   0.664  0.665\n",
       "2   0.383  0.384\n",
       "3   0.298  0.298\n",
       "4   0.247  0.247\n",
       "5   0.200  0.200\n",
       "..    ...    ...\n",
       "67  0.036  0.035\n",
       "68  0.036  0.035\n",
       "69  0.035  0.034\n",
       "70  0.035  0.034\n",
       "71  0.035  0.034\n",
       "\n",
       "[71 rows x 2 columns]"
      ]
     },
     "execution_count": 114,
     "metadata": {},
     "output_type": "execute_result"
    }
   ],
   "source": [
    "df"
   ]
  },
  {
   "cell_type": "code",
   "execution_count": 112,
   "id": "64856949",
   "metadata": {},
   "outputs": [],
   "source": [
    "def get_well_to_name():\n",
    "    filename = '../Eve_Files/Eve_Files/translated_wellmap.tsv'\n",
    "    df = pd.read_csv(filename,sep='\\t',index_col=1)\n",
    "    pr_wells = df.loc[(df['deck_pos'] == 4) | (df['deck_pos'] == 7)]\n",
    "    return pr_wells['chem_name']"
   ]
  },
  {
   "cell_type": "code",
   "execution_count": 113,
   "id": "3140f646",
   "metadata": {},
   "outputs": [
    {
     "data": {
      "text/plain": [
       "Series([], Name: chem_name, dtype: object)"
      ]
     },
     "execution_count": 113,
     "metadata": {},
     "output_type": "execute_result"
    }
   ],
   "source": [
    "get_well_to_name()"
   ]
  },
  {
   "cell_type": "code",
   "execution_count": null,
   "id": "84f883a7",
   "metadata": {},
   "outputs": [],
   "source": []
  },
  {
   "cell_type": "code",
   "execution_count": null,
   "id": "2f4e9c90",
   "metadata": {},
   "outputs": [],
   "source": []
  }
 ],
 "metadata": {
  "kernelspec": {
   "display_name": "Python 3",
   "language": "python",
   "name": "python3"
  },
  "language_info": {
   "codemirror_mode": {
    "name": "ipython",
    "version": 3
   },
   "file_extension": ".py",
   "mimetype": "text/x-python",
   "name": "python",
   "nbconvert_exporter": "python",
   "pygments_lexer": "ipython3",
   "version": "3.9.5"
  }
 },
 "nbformat": 4,
 "nbformat_minor": 5
}
